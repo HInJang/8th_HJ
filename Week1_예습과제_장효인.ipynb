{
 "cells": [
  {
   "cell_type": "code",
   "execution_count": 1,
   "metadata": {},
   "outputs": [
    {
     "name": "stdout",
     "output_type": "stream",
     "text": [
      "이 장치에서 MPS(GPU 가속)를 사용할 수 있습니다.\n"
     ]
    }
   ],
   "source": [
    "import torch\n",
    "\n",
    "def check_mps_availability():\n",
    "    # MPS 사용 가능 여부를 확인합니다.\n",
    "    if torch.backends.mps.is_available():\n",
    "        print(\"이 장치에서 MPS(GPU 가속)를 사용할 수 있습니다.\")\n",
    "    else:\n",
    "        print(\"MPS를 사용할 수 없습니다. CPU를 사용합니다.\")\n",
    "\n",
    "#  GPU 사용 가능 여부를 확인합니다.\n",
    "check_mps_availability()"
   ]
  },
  {
   "cell_type": "code",
   "execution_count": 2,
   "metadata": {},
   "outputs": [
    {
     "name": "stdout",
     "output_type": "stream",
     "text": [
      "2.6.0\n",
      "False\n"
     ]
    },
    {
     "data": {
      "text/plain": [
       "True"
      ]
     },
     "execution_count": 2,
     "metadata": {},
     "output_type": "execute_result"
    }
   ],
   "source": [
    "\n",
    "print(torch.__version__)  # PyTorch 버전 확인\n",
    "print(torch.cuda.is_available())  # CUDA 사용 가능 여부 확인\n",
    "torch.backends.mps.is_available()  # MPS 지원 여부 확인\n"
   ]
  },
  {
   "cell_type": "markdown",
   "metadata": {},
   "source": [
    "**텐서 생성 및 변환**"
   ]
  },
  {
   "cell_type": "markdown",
   "metadata": {},
   "source": [
    "* 텐서 생성"
   ]
  },
  {
   "cell_type": "code",
   "execution_count": 3,
   "metadata": {},
   "outputs": [
    {
     "name": "stdout",
     "output_type": "stream",
     "text": [
      "tensor([[1, 2],\n",
      "        [3, 4]])\n",
      "tensor([[1, 2],\n",
      "        [3, 4]], device='mps:0')\n",
      "tensor([[1., 2.],\n",
      "        [3., 4.]], dtype=torch.float64)\n"
     ]
    }
   ],
   "source": [
    "import torch\n",
    "print(torch.tensor([[1,2], [3,4]])) # 2 차원 텐서 생성\n",
    "print(torch.tensor([[1,2], [3,4]], device = \"mps\")) # GPU에 텐서 생성\n",
    "print(torch.tensor([[1,2], [3,4]], dtype=torch.float64)) # dtype을 이용해 float 64 type 텐서 생성 "
   ]
  },
  {
   "cell_type": "markdown",
   "metadata": {},
   "source": [
    "* 텐서 `ndarray`로 변환"
   ]
  },
  {
   "cell_type": "code",
   "execution_count": 4,
   "metadata": {},
   "outputs": [
    {
     "name": "stdout",
     "output_type": "stream",
     "text": [
      "[[1 2]\n",
      " [3 4]]\n",
      "[[1 2]\n",
      " [3 4]]\n"
     ]
    }
   ],
   "source": [
    "temp = torch.tensor([[1,2], [3,4]])\n",
    "print(temp.numpy()) # tensor -> ndarray 변환\n",
    "\n",
    "temp = torch.tensor([[1,2], [3,4]])\n",
    "print(temp.to(\"cpu\").numpy()) # GPU tensor -> CPU tensor -> ndarray 변환"
   ]
  },
  {
   "cell_type": "markdown",
   "metadata": {},
   "source": [
    "**텐서 인덱스 조작**"
   ]
  },
  {
   "cell_type": "code",
   "execution_count": 5,
   "metadata": {},
   "outputs": [
    {
     "name": "stdout",
     "output_type": "stream",
     "text": [
      "tensor(1.) tensor(2.) tensor(7.)\n",
      "-----------------\n",
      "tensor([3., 4., 5.]) tensor([5., 6.])\n"
     ]
    }
   ],
   "source": [
    "temp = torch.FloatTensor([1, 2, 3, 4, 5, 6, 7]) # Pytorch로 float type 1차원 벡터 생성\n",
    "print(temp[0], temp[1], temp[-1]) # Indexing\n",
    "print('-----------------')\n",
    "print(temp[2:5], temp[4:-1]) # Slicing"
   ]
  },
  {
   "cell_type": "markdown",
   "metadata": {},
   "source": [
    "**텐서 연산 및 차원 조작**\n",
    "\n",
    "- 텐서 연산"
   ]
  },
  {
   "cell_type": "code",
   "execution_count": 6,
   "metadata": {},
   "outputs": [
    {
     "name": "stdout",
     "output_type": "stream",
     "text": [
      "tensor([2, 2, 3])\n"
     ]
    }
   ],
   "source": [
    "v = torch.tensor([1, 2, 3]) # 길이가 3인 벡터\n",
    "w = torch.tensor([3, 4, 6])\n",
    "\n",
    "print(w - v) # 같은 길이 벡터 간 뺄셈 연산"
   ]
  },
  {
   "cell_type": "markdown",
   "metadata": {},
   "source": [
    "- 텐서 차원 조작"
   ]
  },
  {
   "cell_type": "code",
   "execution_count": 7,
   "metadata": {},
   "outputs": [
    {
     "name": "stdout",
     "output_type": "stream",
     "text": [
      "torch.Size([2, 2])\n",
      "----------------\n",
      "tensor([[1],\n",
      "        [2],\n",
      "        [3],\n",
      "        [4]])\n",
      "----------------\n",
      "tensor([1, 2, 3, 4])\n",
      "----------------\n",
      "tensor([[1, 2, 3, 4]])\n",
      "----------------\n",
      "tensor([[1],\n",
      "        [2],\n",
      "        [3],\n",
      "        [4]])\n"
     ]
    }
   ],
   "source": [
    "temp = torch.tensor([\n",
    "    [1, 2],\n",
    "    [3, 4] ]) # 2 x 2 matrix\n",
    "\n",
    "print(temp.shape)  # 텐서 사이즈 출력\n",
    "print('----------------')\n",
    "print(temp.view(4, 1)) # 2 x 2 matirx -> 4 x 1 matrix로 변형\n",
    "print('----------------')\n",
    "print(temp.view(-1)) # 2 x 2 matrix -> 1D vector로 변형\n",
    "print('----------------')\n",
    "print(temp.view(1, -1)) # temp 요소 개수를 유지한 채, (1, ?) 형태로 변형 ((1, 4) 형태가 됨)\n",
    "print('----------------')\n",
    "print(temp.view(-1, 1)) # temp 요소 개수를 유지한 채, (?, 1) 형태로 변형 ((4, 1) 형태가 됨)"
   ]
  },
  {
   "cell_type": "markdown",
   "metadata": {},
   "source": [
    "### 모델 정의\n",
    "\n",
    "**단순 신경망을 정의하는 방법**"
   ]
  },
  {
   "cell_type": "code",
   "execution_count": 8,
   "metadata": {},
   "outputs": [],
   "source": [
    "import torch.nn as nn\n",
    "model = nn.Linear(in_features = 1, out_features = 1, bias = True)"
   ]
  },
  {
   "cell_type": "markdown",
   "metadata": {},
   "source": [
    "**nn.Module()을 상속하여 정의하는 방법**"
   ]
  },
  {
   "cell_type": "code",
   "execution_count": 9,
   "metadata": {},
   "outputs": [],
   "source": [
    "class MLP(nn.Module):\n",
    "    def __init__(self, inputs):\n",
    "        super(MLP, self).__init__()\n",
    "        self.layer = Linear(inputs, 1)  # 계층 정의\n",
    "        self.activation = Sigmoid() # 활성화 함수 정의\n",
    "    \n",
    "    def forward(self, X):\n",
    "        X = self.layer(X)\n",
    "        X = self.activation(X)\n",
    "        return X"
   ]
  },
  {
   "cell_type": "markdown",
   "metadata": {},
   "source": [
    "**Sequential 신경망을 정의하는 방법**"
   ]
  },
  {
   "cell_type": "code",
   "execution_count": 10,
   "metadata": {},
   "outputs": [
    {
     "name": "stdout",
     "output_type": "stream",
     "text": [
      "Printing Children \n",
      "--------------------------------------\n",
      "[Sequential(\n",
      "  (0): Conv2d(3, 64, kernel_size=(5, 5), stride=(1, 1))\n",
      "  (1): ReLU(inplace=True)\n",
      "  (2): MaxPool2d(kernel_size=2, stride=2, padding=0, dilation=1, ceil_mode=False)\n",
      "), Sequential(\n",
      "  (0): Conv2d(64, 30, kernel_size=(5, 5), stride=(1, 1))\n",
      "  (1): ReLU(inplace=True)\n",
      "  (2): MaxPool2d(kernel_size=2, stride=2, padding=0, dilation=1, ceil_mode=False)\n",
      "), Sequential(\n",
      "  (0): Linear(in_features=750, out_features=10, bias=True)\n",
      "  (1): ReLU(inplace=True)\n",
      ")]\n",
      "\n",
      "\n",
      "Printing Modules\n",
      "--------------------------\n",
      "[MLP(\n",
      "  (layer1): Sequential(\n",
      "    (0): Conv2d(3, 64, kernel_size=(5, 5), stride=(1, 1))\n",
      "    (1): ReLU(inplace=True)\n",
      "    (2): MaxPool2d(kernel_size=2, stride=2, padding=0, dilation=1, ceil_mode=False)\n",
      "  )\n",
      "  (layer2): Sequential(\n",
      "    (0): Conv2d(64, 30, kernel_size=(5, 5), stride=(1, 1))\n",
      "    (1): ReLU(inplace=True)\n",
      "    (2): MaxPool2d(kernel_size=2, stride=2, padding=0, dilation=1, ceil_mode=False)\n",
      "  )\n",
      "  (layer3): Sequential(\n",
      "    (0): Linear(in_features=750, out_features=10, bias=True)\n",
      "    (1): ReLU(inplace=True)\n",
      "  )\n",
      "), Sequential(\n",
      "  (0): Conv2d(3, 64, kernel_size=(5, 5), stride=(1, 1))\n",
      "  (1): ReLU(inplace=True)\n",
      "  (2): MaxPool2d(kernel_size=2, stride=2, padding=0, dilation=1, ceil_mode=False)\n",
      "), Conv2d(3, 64, kernel_size=(5, 5), stride=(1, 1)), ReLU(inplace=True), MaxPool2d(kernel_size=2, stride=2, padding=0, dilation=1, ceil_mode=False), Sequential(\n",
      "  (0): Conv2d(64, 30, kernel_size=(5, 5), stride=(1, 1))\n",
      "  (1): ReLU(inplace=True)\n",
      "  (2): MaxPool2d(kernel_size=2, stride=2, padding=0, dilation=1, ceil_mode=False)\n",
      "), Conv2d(64, 30, kernel_size=(5, 5), stride=(1, 1)), ReLU(inplace=True), MaxPool2d(kernel_size=2, stride=2, padding=0, dilation=1, ceil_mode=False), Sequential(\n",
      "  (0): Linear(in_features=750, out_features=10, bias=True)\n",
      "  (1): ReLU(inplace=True)\n",
      "), Linear(in_features=750, out_features=10, bias=True), ReLU(inplace=True)]\n"
     ]
    }
   ],
   "source": [
    "import torch.nn as nn\n",
    "class MLP(nn.Module):\n",
    "    def __init__(self): # 모델에서 사용될 모듈 정의\n",
    "        super(MLP, self).__init__()\n",
    "        self.layer1 = nn.Sequential(\n",
    "            nn.Conv2d(in_channels = 3, out_channels = 64, kernel_size = 5),\n",
    "            nn.ReLU(inplace = True),\n",
    "            nn.MaxPool2d(2)\n",
    "        )\n",
    "\n",
    "        self.layer2 = nn.Sequential(\n",
    "            nn.Conv2d(in_channels=64, out_channels=30, kernel_size=5),\n",
    "            nn.ReLU(inplace = True),\n",
    "            nn.MaxPool2d(2)        \n",
    "        )\n",
    "\n",
    "        self.layer3 = nn.Sequential(\n",
    "            nn.Linear(in_features=30*5*5, out_features=10, bias=True),\n",
    "            nn.ReLU(inplace=True)\n",
    "        )\n",
    "    \n",
    "    def forward(self, x): # 실행될 연산 정의\n",
    "        x = self.layer1(x)\n",
    "        x = self.layer2(x)\n",
    "        x = x.view(x.shape[0], -1) # (?, 1) 형태로 변경\n",
    "        x = self.layer3(x)\n",
    "        return x\n",
    "\n",
    "model = MLP()\n",
    "\n",
    "print(\"Printing Children \\n--------------------------------------\")\n",
    "print(list(model.children()))\n",
    "print(\"\\n\\nPrinting Modules\\n--------------------------\")\n",
    "print(list(model.modules()))"
   ]
  },
  {
   "cell_type": "markdown",
   "metadata": {},
   "source": [
    "**함수로 신경망 정의**"
   ]
  },
  {
   "cell_type": "code",
   "execution_count": 11,
   "metadata": {},
   "outputs": [],
   "source": [
    "def MLP(in_features = 1, hidden_features=20, out_features=1):\n",
    "    hidden = nn.Linear(in_features=in_features, out_features=hidden_features,\n",
    "                       bias = True)\n",
    "    activation = nn.ReLU()\n",
    "    output=nn.Linear(in_features=hidden_features, out_features=out_features,\n",
    "                     bias = True)\n",
    "    net = nn.Sequential(hidden, activation, output)\n",
    "    return net"
   ]
  },
  {
   "cell_type": "markdown",
   "metadata": {},
   "source": [
    "### 모델 평가\n",
    "\n",
    "- **함수를 이용**"
   ]
  },
  {
   "cell_type": "code",
   "execution_count": 12,
   "metadata": {},
   "outputs": [
    {
     "name": "stdout",
     "output_type": "stream",
     "text": [
      "tensor(0.2000)\n"
     ]
    }
   ],
   "source": [
    "import torch\n",
    "import torchmetrics\n",
    "\n",
    "preds = torch.randn(10, 5).softmax(dim = -1)\n",
    "target = torch.randint(5, (10,)) # 정답 레이블\n",
    "\n",
    "acc = torchmetrics.functional.accuracy(preds, target, task=\"multiclass\", num_classes=5) \n",
    "# model 평가를 위해 torchmetrics, functional accuracy 사용\n",
    "\n",
    "print(acc)"
   ]
  },
  {
   "cell_type": "markdown",
   "metadata": {},
   "source": [
    "- **모듈을 이용**"
   ]
  },
  {
   "cell_type": "code",
   "execution_count": 13,
   "metadata": {},
   "outputs": [
    {
     "name": "stdout",
     "output_type": "stream",
     "text": [
      "Accuracy on batch 0: 0.5\n",
      "Accuracy on batch 1: 0.10000000149011612\n",
      "Accuracy on batch 2: 0.10000000149011612\n",
      "Accuracy on batch 3: 0.4000000059604645\n",
      "Accuracy on batch 4: 0.20000000298023224\n",
      "Accuracy on batch 5: 0.4000000059604645\n",
      "Accuracy on batch 6: 0.30000001192092896\n",
      "Accuracy on batch 7: 0.30000001192092896\n",
      "Accuracy on batch 8: 0.20000000298023224\n",
      "Accuracy on batch 9: 0.20000000298023224\n",
      "Accuracy on all data: 0.27000001072883606\n"
     ]
    }
   ],
   "source": [
    "import torch\n",
    "import torchmetrics\n",
    "metric = torchmetrics.Accuracy(task=\"multiclass\", num_classes=5) # model 평가 초기화\n",
    "\n",
    "n_batches = 10\n",
    "for i in range(n_batches):\n",
    "    preds = torch.randn(10, 5).softmax(dim=-1)\n",
    "    target = torch.randint(5, (10,)) # 정답 레이블\n",
    "\n",
    "    acc = metric(preds, target)\n",
    "    print(f\"Accuracy on batch {i}: {acc}\") # Accuracy at the cureent batch\n",
    "\n",
    "acc = metric.compute()\n",
    "print(f\"Accuracy on all data: {acc}\") # Accuracy at all the batches"
   ]
  },
  {
   "cell_type": "markdown",
   "metadata": {},
   "source": [
    "### 파이토치 코드 맛보기"
   ]
  },
  {
   "cell_type": "markdown",
   "metadata": {},
   "source": [
    "**필요한 라이브러리 호출**"
   ]
  },
  {
   "cell_type": "code",
   "execution_count": 14,
   "metadata": {},
   "outputs": [],
   "source": [
    "import os\n",
    "import torch\n",
    "import torch.nn as nn\n",
    "import numpy as np\n",
    "import pandas as pd\n",
    "import matplotlib.pyplot as plt\n",
    "import seaborn as sns\n",
    "%matplotlib inline\n"
   ]
  },
  {
   "cell_type": "markdown",
   "metadata": {},
   "source": [
    "**데이터 호출**"
   ]
  },
  {
   "cell_type": "code",
   "execution_count": 15,
   "metadata": {},
   "outputs": [
    {
     "name": "stdout",
     "output_type": "stream",
     "text": [
      "/Users/janghyoin/Desktop/2025/Euron/예습 과제\n"
     ]
    },
    {
     "data": {
      "text/html": [
       "<div>\n",
       "<style scoped>\n",
       "    .dataframe tbody tr th:only-of-type {\n",
       "        vertical-align: middle;\n",
       "    }\n",
       "\n",
       "    .dataframe tbody tr th {\n",
       "        vertical-align: top;\n",
       "    }\n",
       "\n",
       "    .dataframe thead th {\n",
       "        text-align: right;\n",
       "    }\n",
       "</style>\n",
       "<table border=\"1\" class=\"dataframe\">\n",
       "  <thead>\n",
       "    <tr style=\"text-align: right;\">\n",
       "      <th></th>\n",
       "      <th>price</th>\n",
       "      <th>maint</th>\n",
       "      <th>doors</th>\n",
       "      <th>persons</th>\n",
       "      <th>lug_capacity</th>\n",
       "      <th>safety</th>\n",
       "      <th>output</th>\n",
       "    </tr>\n",
       "  </thead>\n",
       "  <tbody>\n",
       "    <tr>\n",
       "      <th>0</th>\n",
       "      <td>vhigh</td>\n",
       "      <td>vhigh</td>\n",
       "      <td>2</td>\n",
       "      <td>2</td>\n",
       "      <td>small</td>\n",
       "      <td>low</td>\n",
       "      <td>unacc</td>\n",
       "    </tr>\n",
       "    <tr>\n",
       "      <th>1</th>\n",
       "      <td>vhigh</td>\n",
       "      <td>vhigh</td>\n",
       "      <td>2</td>\n",
       "      <td>2</td>\n",
       "      <td>small</td>\n",
       "      <td>med</td>\n",
       "      <td>unacc</td>\n",
       "    </tr>\n",
       "    <tr>\n",
       "      <th>2</th>\n",
       "      <td>vhigh</td>\n",
       "      <td>vhigh</td>\n",
       "      <td>2</td>\n",
       "      <td>2</td>\n",
       "      <td>small</td>\n",
       "      <td>high</td>\n",
       "      <td>unacc</td>\n",
       "    </tr>\n",
       "    <tr>\n",
       "      <th>3</th>\n",
       "      <td>vhigh</td>\n",
       "      <td>vhigh</td>\n",
       "      <td>2</td>\n",
       "      <td>2</td>\n",
       "      <td>med</td>\n",
       "      <td>low</td>\n",
       "      <td>unacc</td>\n",
       "    </tr>\n",
       "    <tr>\n",
       "      <th>4</th>\n",
       "      <td>vhigh</td>\n",
       "      <td>vhigh</td>\n",
       "      <td>2</td>\n",
       "      <td>2</td>\n",
       "      <td>med</td>\n",
       "      <td>med</td>\n",
       "      <td>unacc</td>\n",
       "    </tr>\n",
       "  </tbody>\n",
       "</table>\n",
       "</div>"
      ],
      "text/plain": [
       "   price  maint doors persons lug_capacity safety output\n",
       "0  vhigh  vhigh     2       2        small    low  unacc\n",
       "1  vhigh  vhigh     2       2        small    med  unacc\n",
       "2  vhigh  vhigh     2       2        small   high  unacc\n",
       "3  vhigh  vhigh     2       2          med    low  unacc\n",
       "4  vhigh  vhigh     2       2          med    med  unacc"
      ]
     },
     "execution_count": 15,
     "metadata": {},
     "output_type": "execute_result"
    }
   ],
   "source": [
    "PATH = os.getcwd()\n",
    "print(PATH)\n",
    "data_path = os.path.join(PATH,'../Pytorch textbook/chap02/data/car_evaluation.csv')\n",
    "dataset = pd.read_csv(data_path) # 파일 호출\n",
    "dataset.head() # 데이터 셋의 첫 5줄 확인"
   ]
  },
  {
   "cell_type": "code",
   "execution_count": 16,
   "metadata": {},
   "outputs": [
    {
     "name": "stdout",
     "output_type": "stream",
     "text": [
      "Data size: (1728, 7)\n",
      "\n",
      "Data features: Index(['price', 'maint', 'doors', 'persons', 'lug_capacity', 'safety',\n",
      "       'output'],\n",
      "      dtype='object')\n",
      "\n",
      "\n",
      "<bound method DataFrame.info of       price  maint  doors persons lug_capacity safety output\n",
      "0     vhigh  vhigh      2       2        small    low  unacc\n",
      "1     vhigh  vhigh      2       2        small    med  unacc\n",
      "2     vhigh  vhigh      2       2        small   high  unacc\n",
      "3     vhigh  vhigh      2       2          med    low  unacc\n",
      "4     vhigh  vhigh      2       2          med    med  unacc\n",
      "...     ...    ...    ...     ...          ...    ...    ...\n",
      "1723    low    low  5more    more          med    med   good\n",
      "1724    low    low  5more    more          med   high  vgood\n",
      "1725    low    low  5more    more          big    low  unacc\n",
      "1726    low    low  5more    more          big    med   good\n",
      "1727    low    low  5more    more          big   high  vgood\n",
      "\n",
      "[1728 rows x 7 columns]>\n"
     ]
    }
   ],
   "source": [
    "print(f\"Data size: {dataset.shape}\\n\")\n",
    "print(f\"Data features: {dataset.columns}\\n\\n\")\n",
    "print(dataset.info)"
   ]
  },
  {
   "cell_type": "code",
   "execution_count": 17,
   "metadata": {},
   "outputs": [
    {
     "data": {
      "text/plain": [
       "array(['unacc', 'acc', 'vgood', 'good'], dtype=object)"
      ]
     },
     "execution_count": 17,
     "metadata": {},
     "output_type": "execute_result"
    }
   ],
   "source": [
    "dataset['output'].unique()"
   ]
  },
  {
   "cell_type": "markdown",
   "metadata": {},
   "source": [
    "- 총 7개의 features \n",
    "\n",
    "    - price(자동차 가격)\n",
    "    - maint(자동차 유지 비용)\n",
    "    - doors(자동차 문 개수)\n",
    "    - persons(수용 인원)\n",
    "    - lug_capacity (수하물 용량)\n",
    "    - safety (안전성)\n",
    "    - **output (차 상태)**: 범주형 데이터, unacc (허용 불가능한 수준), acc (허용 가능한 수준), good (양호), vgood (매우 좋음) 중 하나의 값을 가짐 "
   ]
  },
  {
   "cell_type": "markdown",
   "metadata": {},
   "source": [
    "**목표: 차 상태를 예측하는 코드를 구현**"
   ]
  },
  {
   "cell_type": "markdown",
   "metadata": {},
   "source": [
    "**데이터 분포 확인**"
   ]
  },
  {
   "cell_type": "code",
   "execution_count": 18,
   "metadata": {},
   "outputs": [
    {
     "data": {
      "text/plain": [
       "<Axes: ylabel='count'>"
      ]
     },
     "execution_count": 18,
     "metadata": {},
     "output_type": "execute_result"
    },
    {
     "data": {
      "image/png": "[encoded data removed]",
      "text/plain": [
       "<Figure size 800x600 with 1 Axes>"
      ]
     },
     "metadata": {},
     "output_type": "display_data"
    }
   ],
   "source": [
    "fig_size = plt.rcParams[\"figure.figsize\"]\n",
    "fig_size[0] = 8\n",
    "fig_size[1] = 6\n",
    "plt.rcParams[\"figure.figsize\"]= fig_size\n",
    "dataset.output.value_counts().plot(kind = 'pie', autopct='%0.05f%%',\n",
    "                                   colors=['lightblue', 'lightgreen', 'orange', 'pink'],\n",
    "                                   explode = (0.05, 0.05, 0.05, 0.05))"
   ]
  },
  {
   "cell_type": "markdown",
   "metadata": {},
   "source": [
    "대부분의 자동차 (약 70%)가 허용 불가능한 상태였고, 20%만 허용 가능함. 양호한 상태의 자동차 비율이 매우 낮음. "
   ]
  },
  {
   "cell_type": "markdown",
   "metadata": {},
   "source": [
    "**데이터 전처리**\n",
    "\n",
    "- 모든 데이터 칼럼들이 범주형 데이터임\n",
    "- 단어를 숫자 (텐서)로 변환해야함\n",
    "\n",
    "\n",
    "변환 순서\n",
    "\n",
    "\n",
    "**범주형 -> dataset[category] -> numpy array -> Tensor**"
   ]
  },
  {
   "cell_type": "code",
   "execution_count": 19,
   "metadata": {},
   "outputs": [
    {
     "data": {
      "text/plain": [
       "array([[3, 3, 0, 0, 2, 1],\n",
       "       [3, 3, 0, 0, 2, 2],\n",
       "       [3, 3, 0, 0, 2, 0],\n",
       "       [3, 3, 0, 0, 1, 1],\n",
       "       [3, 3, 0, 0, 1, 2],\n",
       "       [3, 3, 0, 0, 1, 0],\n",
       "       [3, 3, 0, 0, 0, 1],\n",
       "       [3, 3, 0, 0, 0, 2],\n",
       "       [3, 3, 0, 0, 0, 0],\n",
       "       [3, 3, 0, 1, 2, 1]], dtype=int8)"
      ]
     },
     "execution_count": 19,
     "metadata": {},
     "output_type": "execute_result"
    }
   ],
   "source": [
    "categorical_columns = dataset.columns[:-1]\n",
    "\n",
    "#astype()으로 데이터를 범주형으로 변환\n",
    "for category in categorical_columns:\n",
    "    dataset[category] = dataset[category].astype('category') \n",
    "\n",
    "# 범주형 데이터를 numpy array로 바꾸기 위해 cat.codes를 사용\n",
    "# cat.codes는 어떤 클래스가 어떤 숫자로 매핑되는지 확인하기 어려움\n",
    "price = dataset['price'].cat.codes.values\n",
    "maint = dataset['maint'].cat.codes.values\n",
    "doors = dataset['doors'].cat.codes.values\n",
    "persons = dataset['persons'].cat.codes.values\n",
    "lug_capacity = dataset['lug_capacity'].cat.codes.values\n",
    "safety = dataset['safety'].cat.codes.values\n",
    "\n",
    "# numpy 객체들을 column-wise stacking\n",
    "categorical_data = np.stack([price, maint, doors, persons, lug_capacity, safety], 1)\n",
    "categorical_data[:10]"
   ]
  },
  {
   "cell_type": "code",
   "execution_count": 20,
   "metadata": {},
   "outputs": [
    {
     "data": {
      "text/plain": [
       "tensor([[3, 3, 0, 0, 2, 1],\n",
       "        [3, 3, 0, 0, 2, 2],\n",
       "        [3, 3, 0, 0, 2, 0],\n",
       "        [3, 3, 0, 0, 1, 1],\n",
       "        [3, 3, 0, 0, 1, 2],\n",
       "        [3, 3, 0, 0, 1, 0],\n",
       "        [3, 3, 0, 0, 0, 1],\n",
       "        [3, 3, 0, 0, 0, 2],\n",
       "        [3, 3, 0, 0, 0, 0],\n",
       "        [3, 3, 0, 1, 2, 1]])"
      ]
     },
     "execution_count": 20,
     "metadata": {},
     "output_type": "execute_result"
    }
   ],
   "source": [
    "# 배열을 텐서로 변환\n",
    "categorical_data = torch.tensor(categorical_data, dtype = torch.int64)\n",
    "categorical_data[:10]"
   ]
  },
  {
   "cell_type": "code",
   "execution_count": 21,
   "metadata": {},
   "outputs": [
    {
     "name": "stdout",
     "output_type": "stream",
     "text": [
      "     acc   good  unacc  vgood\n",
      "0  False  False   True  False\n",
      "1  False  False   True  False\n",
      "2  False  False   True  False\n",
      "3  False  False   True  False\n",
      "4  False  False   True  False\n",
      "5  False  False   True  False\n",
      "6  False  False   True  False\n",
      "7  False  False   True  False\n",
      "8  False  False   True  False\n",
      "9  False  False   True  False\n",
      "-------------------------------\n",
      "tensor([False, False,  True, False, False, False,  True, False, False, False])\n",
      "torch.Size([1728, 6])\n",
      "torch.Size([6912])\n"
     ]
    }
   ],
   "source": [
    "# label(outputs)로 사용할 컬럼을 텐서로 변환\n",
    "outputs = pd.get_dummies(dataset.output) # get_dummies를 이용해 넘파이 배열로 변환\n",
    "print(outputs[:10])\n",
    "outputs = outputs.values\n",
    "outputs = torch.tensor(outputs).flatten() # 1차원 텐서로 변환\n",
    "print(\"-------------------------------\")\n",
    "print(outputs[:10])\n",
    "\n",
    "print(categorical_data.shape)\n",
    "print(outputs.shape)"
   ]
  },
  {
   "cell_type": "markdown",
   "metadata": {},
   "source": [
    "**워드 임베딩**: 유사한 단어 끼리 유사하게 인코딩되도록 표현하는 방법\n",
    "- 높은 차원의 임베딩일 수록 단어간의 세부적인 관계를 잘 파악할 수 있음\n",
    "- 단일 숫자로 변환된 넘파이 배열을 N 차원으로 변경해 사용함\n",
    "\n",
    "\n",
    "- 배열을 N 차원으로 변환하기 위해 먼저 모든 범주형 칼럼에 대한 임베딩 크기(벡터 차원)를 정의함\n",
    "    - 임베딩 크기에 대환 정확한 규칙은 x, 각 칼럼의 고유값 수를 2로 나누는 것을 많이 사용"
   ]
  },
  {
   "cell_type": "markdown",
   "metadata": {},
   "source": [
    "**범주형 칼럼을 N차원으로 변환**"
   ]
  },
  {
   "cell_type": "code",
   "execution_count": 22,
   "metadata": {},
   "outputs": [
    {
     "name": "stdout",
     "output_type": "stream",
     "text": [
      "[(4, 2), (4, 2), (4, 2), (3, 2), (3, 2), (3, 2)]\n"
     ]
    }
   ],
   "source": [
    "categorical_columns_sizes = [len(dataset[column].cat.categories) for column in categorical_columns]\n",
    "# 각 범주형 칼럼이 가지는 고유값의 개수를 가져옴\n",
    "\n",
    "categorical_embedding_sizes = [(col_size, min(50, (col_size + 1)//2)) for col_size in categorical_columns_sizes]\n",
    "# 각 범주형 칼럼의 (고유값 개수, 임베딩 크기) 튜플을 리스트로 저장\n",
    "# 임베딩 크기 = 칼럼 고유 값 수 / 2\n",
    "print(categorical_embedding_sizes)"
   ]
  },
  {
   "cell_type": "markdown",
   "metadata": {},
   "source": [
    "**데이터셋 분리**"
   ]
  },
  {
   "cell_type": "code",
   "execution_count": 23,
   "metadata": {},
   "outputs": [],
   "source": [
    "total_records = categorical_data.shape[0]\n",
    "test_records = int(total_records * .2) # 전체 데이터 중 20%를 테스트 용도로 사용\n",
    "\n",
    "categorical_train_data = categorical_data[:total_records-test_records]\n",
    "categorical_test_data = categorical_data[total_records - test_records: total_records]\n",
    "\n",
    "train_outputs = outputs[:total_records-test_records]\n",
    "test_outputs = outputs[total_records - test_records: total_records]\n"
   ]
  },
  {
   "cell_type": "markdown",
   "metadata": {},
   "source": [
    "**데이터셋 분리 확인**"
   ]
  },
  {
   "cell_type": "code",
   "execution_count": 24,
   "metadata": {},
   "outputs": [
    {
     "name": "stdout",
     "output_type": "stream",
     "text": [
      "1383\n",
      "1383\n",
      "345\n",
      "345\n"
     ]
    }
   ],
   "source": [
    "print(len(categorical_train_data))\n",
    "print(len(train_outputs))\n",
    "\n",
    "print(len(categorical_test_data))\n",
    "print(len(test_outputs))"
   ]
  },
  {
   "cell_type": "markdown",
   "metadata": {},
   "source": [
    "**모델 네트워크 생성**"
   ]
  },
  {
   "cell_type": "code",
   "execution_count": 25,
   "metadata": {},
   "outputs": [],
   "source": [
    "class Model(nn.Module): # class 형태로 구현되는 모델은 nn.Module을 상속받음\n",
    "    def __init__(self, embedding_size, output_size, layers, p = 0.4): \n",
    "        # 모델에서 사용될 파라미터와 신경망을 초기화하기 위한 용도로 사용, 객체 생성시 자동 호출\n",
    "        '''\n",
    "        embedding_size: 범주형 칼럼 임베딩 크기\n",
    "        output_size: 출력층 크기\n",
    "        layers: 모든 계층에 대한 목록\n",
    "        p: dropout (default = 0.5)\n",
    "        '''\n",
    "        super().__init__() # Parent class (Model 클래스)에 접근할 때 사용\n",
    "        self.all_embeddings = nn.ModuleList([nn.Embedding(ni, nf) for ni,\n",
    "                                         nf in embedding_size])\n",
    "        self.embedding_dropout = nn.Dropout(p)\n",
    "\n",
    "        all_layers = []\n",
    "        num_categorical_cols = sum(nf for ni, nf in embedding_size)\n",
    "        input_size = num_categorical_cols # 입력층 크기를 찾기 위해 범주형 칼럼 개수를 input_size에 저장\n",
    "\n",
    "        for i in layers:\n",
    "        # 모델의 네트워크 계층을 구축하기 위해 for 문을 이용해 각 계층을 all_layers 목록에 추가\n",
    "            all_layers.append(nn.Linear(input_size, i)) # 선형 계층\n",
    "            all_layers.append(nn.ReLU(inplace = True)) # 활성화 함수\n",
    "            all_layers.append(nn.BatchNorm1d(i)) # 배치 정규화 \n",
    "            all_layers.append(nn.Dropout(p)) # 과적합 방지\n",
    "            input_size = i\n",
    "        \n",
    "        all_layers.append(nn.Linear(layers[-1], output_size))\n",
    "        self.layers = nn.Sequential(*all_layers) # 신경망의 모든 계층이 순차적으로 실행되도록 모든 계층에 대한 목록을 nn.Sequential로 전달\n",
    "\n",
    "    def forward(self, x_categorical): # 학습 데이터를 입력 받아 연산 진행\n",
    "        embeddings = []\n",
    "        for i, e in enumerate(self.all_embeddings):\n",
    "            embeddings.append(e(x_categorical[:,i]))\n",
    "        x = torch.cat(embeddings, 1)\n",
    "        x = self.embedding_dropout(x)\n",
    "        x = self.layers(x)\n",
    "        return x"
   ]
  },
  {
   "cell_type": "markdown",
   "metadata": {},
   "source": [
    "**Model 클래스 객체 생성**"
   ]
  },
  {
   "cell_type": "code",
   "execution_count": 26,
   "metadata": {},
   "outputs": [
    {
     "name": "stdout",
     "output_type": "stream",
     "text": [
      "Model(\n",
      "  (all_embeddings): ModuleList(\n",
      "    (0-2): 3 x Embedding(4, 2)\n",
      "    (3-5): 3 x Embedding(3, 2)\n",
      "  )\n",
      "  (embedding_dropout): Dropout(p=0.4, inplace=False)\n",
      "  (layers): Sequential(\n",
      "    (0): Linear(in_features=12, out_features=200, bias=True)\n",
      "    (1): ReLU(inplace=True)\n",
      "    (2): BatchNorm1d(200, eps=1e-05, momentum=0.1, affine=True, track_running_stats=True)\n",
      "    (3): Dropout(p=0.4, inplace=False)\n",
      "    (4): Linear(in_features=200, out_features=100, bias=True)\n",
      "    (5): ReLU(inplace=True)\n",
      "    (6): BatchNorm1d(100, eps=1e-05, momentum=0.1, affine=True, track_running_stats=True)\n",
      "    (7): Dropout(p=0.4, inplace=False)\n",
      "    (8): Linear(in_features=100, out_features=50, bias=True)\n",
      "    (9): ReLU(inplace=True)\n",
      "    (10): BatchNorm1d(50, eps=1e-05, momentum=0.1, affine=True, track_running_stats=True)\n",
      "    (11): Dropout(p=0.4, inplace=False)\n",
      "    (12): Linear(in_features=50, out_features=4, bias=True)\n",
      "  )\n",
      ")\n"
     ]
    }
   ],
   "source": [
    "model = Model(categorical_embedding_sizes, 4, [200, 100, 50], p = 0.4)\n",
    "print(model)"
   ]
  },
  {
   "cell_type": "markdown",
   "metadata": {},
   "source": [
    "**손실 함수와 옵티마이저 정의**\n",
    "- Optimizer: Adam\n",
    "- Loss Function: cross entropy"
   ]
  },
  {
   "cell_type": "code",
   "execution_count": 27,
   "metadata": {},
   "outputs": [],
   "source": [
    "loss_function = nn.CrossEntropyLoss()\n",
    "optimizer = torch.optim.Adam(model.parameters(), lr=0.001)"
   ]
  },
  {
   "cell_type": "markdown",
   "metadata": {},
   "source": [
    "**CPU/GPU 사용 지정**\n",
    "- GPU available -> Use GPU\n",
    "- GPU unavailable -> Use CPU instead"
   ]
  },
  {
   "cell_type": "code",
   "execution_count": 28,
   "metadata": {},
   "outputs": [],
   "source": [
    "if torch.torch.backends.mps.is_available():\n",
    "    device = torch.device('mps') # M3 사용, cuda 대신 GPU로 mps 사용\n",
    "else:\n",
    "    device = torch.device('cpu') # GPU가 없다면 CPU tkdyd"
   ]
  },
  {
   "cell_type": "markdown",
   "metadata": {},
   "source": [
    "**모델 학습**"
   ]
  },
  {
   "cell_type": "code",
   "execution_count": 29,
   "metadata": {},
   "outputs": [
    {
     "name": "stdout",
     "output_type": "stream",
     "text": [
      "epoch:   1 loss: 1.60358953\n",
      "epoch:  26 loss: 1.40626168\n",
      "epoch:  51 loss: 1.31136072\n",
      "epoch:  76 loss: 1.21005189\n",
      "epoch: 101 loss: 1.07861841\n",
      "epoch: 126 loss: 0.93829900\n",
      "epoch: 151 loss: 0.84981644\n",
      "epoch: 176 loss: 0.75534445\n",
      "epoch: 201 loss: 0.69597816\n",
      "epoch: 226 loss: 0.65724480\n",
      "epoch: 251 loss: 0.64702982\n",
      "epoch: 276 loss: 0.61715764\n",
      "epoch: 301 loss: 0.61822331\n",
      "epoch: 326 loss: 0.60384637\n",
      "epoch: 351 loss: 0.59769487\n",
      "epoch: 376 loss: 0.58958560\n",
      "epoch: 401 loss: 0.58035314\n",
      "epoch: 426 loss: 0.58043641\n",
      "epoch: 451 loss: 0.57773864\n",
      "epoch: 476 loss: 0.58095938\n",
      "epoch: 500 loss: 0.5711715817\n"
     ]
    }
   ],
   "source": [
    "epochs = 500\n",
    "aggregated_losses = []\n",
    "train_outputs = train_outputs.to(device = device, dtype = torch.int64)\n",
    "\n",
    "for i in range(epochs): # 500회 반복, 각 반복마다 손실함수가 오차 계산\n",
    "    i += 1\n",
    "    y_pred = model(categorical_train_data).to(device)\n",
    "    single_loss = loss_function(y_pred, train_outputs)\n",
    "    aggregated_losses.append(single_loss) # 반복할 때마다 오차를 aggregated_losses에 추가\n",
    "\n",
    "    if i%25 == 1: # 25 에포크마다 오차 정보 출력\n",
    "        print(f\"epoch: {i:3} loss: {single_loss.item():10.8f}\")\n",
    "    \n",
    "    optimizer.zero_grad()\n",
    "    single_loss.backward() # 역전파 학습, 가중치 업데이트\n",
    "    optimizer.step() # 기울기 업데이트 \n",
    "\n",
    "print(f\"epoch: {i:3} loss: {single_loss.item():10.10f}\")"
   ]
  },
  {
   "cell_type": "markdown",
   "metadata": {},
   "source": [
    "**테스트 데이터셋으로 모델 예측**"
   ]
  },
  {
   "cell_type": "code",
   "execution_count": 30,
   "metadata": {},
   "outputs": [
    {
     "name": "stdout",
     "output_type": "stream",
     "text": [
      "Loss:  0.56700915\n"
     ]
    }
   ],
   "source": [
    "test_outputs = test_outputs.to(device=device, dtype = torch.int64)\n",
    "with torch.no_grad():\n",
    "    y_val = model(categorical_test_data).to(device)\n",
    "    loss = loss_function(y_val, test_outputs)\n",
    "print(f\"Loss: {loss: .8f}\") # 테스트 용도의 데이터셋에 대한 손실값 출력"
   ]
  },
  {
   "cell_type": "markdown",
   "metadata": {},
   "source": [
    "테스트 데이터셋의 손실값과 훈련 데이터셋의 손실값이 비슷하므로 과적합이 발생하지 않았다고 판단"
   ]
  },
  {
   "cell_type": "markdown",
   "metadata": {},
   "source": [
    "**모델 예측 확인**\n",
    "- 테스트 데이터 셋을 이용해 모델 예측\n",
    "- 모델 네트워크에서 output_size = 4로 지정\n",
    "- 출력층에 네 개의 뉴런이 포함되도록 지정했으므로 각 예측에는 네 개의 값이 포함될 것"
   ]
  },
  {
   "cell_type": "code",
   "execution_count": 31,
   "metadata": {},
   "outputs": [
    {
     "name": "stdout",
     "output_type": "stream",
     "text": [
      "tensor([[ 2.4001,  1.1338, -3.2390, -3.2197],\n",
      "        [ 2.7184,  1.2631, -4.2104, -3.6915],\n",
      "        [ 1.7719,  0.7971, -3.1779, -3.0681],\n",
      "        [ 4.0358,  2.2468, -5.1384, -4.9765],\n",
      "        [ 2.4555,  1.3463, -3.1972, -3.0488]], device='mps:0')\n"
     ]
    }
   ],
   "source": [
    "print(y_val[:5]) # 처음 다섯 개의 값을 출력"
   ]
  },
  {
   "cell_type": "markdown",
   "metadata": {},
   "source": [
    "값이 출력되었지만, 이게 어떤 의미인지 파악하기 어려움. 실제 출력이 0이라면 인덱스 0의 값이 인덱스 1의 값보다 높아야함."
   ]
  },
  {
   "cell_type": "code",
   "execution_count": 32,
   "metadata": {},
   "outputs": [
    {
     "name": "stdout",
     "output_type": "stream",
     "text": [
      "[0 0 0 0 0]\n"
     ]
    }
   ],
   "source": [
    "# 가장 큰 값을 갖는 인덱스 확인\n",
    "y_val_numpy = y_val.cpu().numpy() # Tensor에서 NumPy로 변환\n",
    "y_val_numpy = np.argmax(y_val_numpy, axis = 1)\n",
    "print(y_val_numpy[:5])"
   ]
  },
  {
   "cell_type": "markdown",
   "metadata": {},
   "source": [
    "출력 결과 모두 인덱스 0이 출력됨. 인덱스가 0인 값이 인덱스가 1인 값보다 크므로 처리된 출력이 모두 0이라고 볼 수 있음. "
   ]
  },
  {
   "cell_type": "markdown",
   "metadata": {},
   "source": [
    "**정확도, 정밀도, 재현율**\n",
    "-  `classification_report`,`confusion_matrix`, `accuracy_score` 클래스 사용"
   ]
  },
  {
   "cell_type": "code",
   "execution_count": 33,
   "metadata": {},
   "outputs": [
    {
     "name": "stdout",
     "output_type": "stream",
     "text": [
      "[[259   0]\n",
      " [ 86   0]]\n",
      "              precision    recall  f1-score   support\n",
      "\n",
      "           0       0.75      1.00      0.86       259\n",
      "           1       0.00      0.00      0.00        86\n",
      "\n",
      "    accuracy                           0.75       345\n",
      "   macro avg       0.38      0.50      0.43       345\n",
      "weighted avg       0.56      0.75      0.64       345\n",
      "\n",
      "0.7507246376811594\n"
     ]
    },
    {
     "name": "stderr",
     "output_type": "stream",
     "text": [
      "/opt/anaconda3/envs/euron/lib/python3.12/site-packages/sklearn/metrics/_classification.py:1565: UndefinedMetricWarning: Precision is ill-defined and being set to 0.0 in labels with no predicted samples. Use `zero_division` parameter to control this behavior.\n",
      "  _warn_prf(average, modifier, f\"{metric.capitalize()} is\", len(result))\n",
      "/opt/anaconda3/envs/euron/lib/python3.12/site-packages/sklearn/metrics/_classification.py:1565: UndefinedMetricWarning: Precision is ill-defined and being set to 0.0 in labels with no predicted samples. Use `zero_division` parameter to control this behavior.\n",
      "  _warn_prf(average, modifier, f\"{metric.capitalize()} is\", len(result))\n",
      "/opt/anaconda3/envs/euron/lib/python3.12/site-packages/sklearn/metrics/_classification.py:1565: UndefinedMetricWarning: Precision is ill-defined and being set to 0.0 in labels with no predicted samples. Use `zero_division` parameter to control this behavior.\n",
      "  _warn_prf(average, modifier, f\"{metric.capitalize()} is\", len(result))\n"
     ]
    }
   ],
   "source": [
    "from sklearn.metrics import classification_report, confusion_matrix, accuracy_score\n",
    "\n",
    "# test_outputs도 Numpy 변환이 필요함\n",
    "if isinstance(test_outputs, torch.Tensor):\n",
    "    test_outputs_numpy = test_outputs.cpu().numpy()\n",
    "else:\n",
    "    test_outputs_numpy = test_outputs  # 이미 NumPy라면 그대로 사용\n",
    "\n",
    "\n",
    "print(confusion_matrix(test_outputs_numpy, y_val_numpy))\n",
    "print(classification_report(test_outputs_numpy, y_val_numpy))\n",
    "print(accuracy_score(test_outputs_numpy, y_val_numpy))"
   ]
  },
  {
   "cell_type": "markdown",
   "metadata": {},
   "source": [
    "정확도가 75% 정도로, 모든 파라미터를 무작위로 선택한 것을 고려하면 나쁘지 않은 결과이다. 파라미터를 변경해가면서 더 나은 성능을 찾는 것도 도움이 될 것이다. "
   ]
  },
  {
   "cell_type": "code",
   "execution_count": 34,
   "metadata": {},
   "outputs": [
    {
     "name": "stdout",
     "output_type": "stream",
     "text": [
      "[[1 2]\n",
      " [3 4]\n",
      " [5 6]\n",
      " [7 8]]\n",
      "------------------\n",
      "[[[1 2]\n",
      "  [3 4]]\n",
      "\n",
      " [[5 6]\n",
      "  [7 8]]]\n",
      "[[[1 2]\n",
      "  [5 6]]\n",
      "\n",
      " [[3 4]\n",
      "  [7 8]]]\n"
     ]
    }
   ],
   "source": [
    "import numpy as np\n",
    "a = np.array([[1,2], [3,4]]) # (2,2)\n",
    "b = np.array([[5,6], [7,8]]) # (2,2)\n",
    "c = np.array([[5,6], [7,8], [9,10]]) # (3,2)\n",
    "\n",
    "print(np.concatenate((a, b), axis = 0)) # (4,2)\n",
    "print(\"------------------\")\n",
    "print(np.stack((a, b), axis = 0)) # (2, 2, 2)\n",
    "print(np.stack((a, b), axis = 1))"
   ]
  }
 ],
 "metadata": {
  "kernelspec": {
   "display_name": "euron",
   "language": "python",
   "name": "python3"
  },
  "language_info": {
   "codemirror_mode": {
    "name": "ipython",
    "version": 3
   },
   "file_extension": ".py",
   "mimetype": "text/x-python",
   "name": "python",
   "nbconvert_exporter": "python",
   "pygments_lexer": "ipython3",
   "version": "3.12.9"
  }
 },
 "nbformat": 4,
 "nbformat_minor": 2
}
